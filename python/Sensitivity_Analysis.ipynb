{
 "cells": [
  {
   "cell_type": "code",
   "execution_count": 1,
   "id": "opened-ottawa",
   "metadata": {},
   "outputs": [],
   "source": [
    "import pandas as pd\n",
    "import pyNetLogo\n",
    "from SALib.sample import saltelli\n",
    "from SALib.analyze import sobol\n",
    "\n"
   ]
  },
  {
   "cell_type": "code",
   "execution_count": 2,
   "id": "critical-glance",
   "metadata": {},
   "outputs": [],
   "source": [
    "netlogo = pyNetLogo.NetLogoLink(gui=True, jvm_home = r\"C:\\Program Files\\Java\\jdk-15.0.1\\bin\\server\\jvm.dll\")\n"
   ]
  },
  {
   "cell_type": "code",
   "execution_count": 3,
   "id": "impossible-combine",
   "metadata": {},
   "outputs": [],
   "source": [
    "netlogo.load_model(r\"C:\\Users\\bruno\\github\\SEN1211_project\\models\\final\\model\\final.nlogo\")\n",
    "netlogo.command('setup')"
   ]
  },
  {
   "cell_type": "code",
   "execution_count": 4,
   "id": "prepared-acrylic",
   "metadata": {},
   "outputs": [],
   "source": [
    "#netlogo.command('repeat 1000 [go]')"
   ]
  },
  {
   "cell_type": "code",
   "execution_count": 18,
   "id": "baking-lodge",
   "metadata": {},
   "outputs": [],
   "source": [
    "problem = {\n",
    "  'num_vars': 6,\n",
    "  'names': ['agents-at-start',\n",
    "            'percentage-female',\n",
    "            'percentage-children',\n",
    "            'percentage-visitors-go-to-preferred-exit',\n",
    "            'percentage-stationary-staff',\n",
    "            'alerting-range'],\n",
    "  'bounds': [[450., 451.],\n",
    "             [37., 38.],\n",
    "             [5., 6.],\n",
    "             [96., 97.],\n",
    "             [50., 51.],\n",
    "             [6., 7.]]\n",
    "}\n",
    "\n"
   ]
  },
  {
   "cell_type": "code",
   "execution_count": 26,
   "id": "applicable-variety",
   "metadata": {},
   "outputs": [],
   "source": [
    "problem = {\n",
    "  'num_vars': 6,\n",
    "  'names': ['agents-at-start'],\n",
    "  'bounds': [[450., 451.]]\n",
    "}\n"
   ]
  },
  {
   "cell_type": "code",
   "execution_count": 30,
   "id": "christian-trail",
   "metadata": {},
   "outputs": [],
   "source": [
    "param_values = saltelli.sample(problem, 1, calc_second_order=True)\n"
   ]
  },
  {
   "cell_type": "code",
   "execution_count": 31,
   "id": "thrown-stevens",
   "metadata": {},
   "outputs": [
    {
     "data": {
      "text/plain": [
       "array([[450.21972656, 450.09667969, 450.51855469, 450.67675781,\n",
       "        450.28027344, 450.90722656],\n",
       "       [450.04589844, 450.09667969, 450.51855469, 450.67675781,\n",
       "        450.28027344, 450.90722656],\n",
       "       [450.21972656, 450.89941406, 450.51855469, 450.67675781,\n",
       "        450.28027344, 450.90722656],\n",
       "       [450.21972656, 450.09667969, 450.50097656, 450.67675781,\n",
       "        450.28027344, 450.90722656],\n",
       "       [450.21972656, 450.09667969, 450.51855469, 450.06933594,\n",
       "        450.28027344, 450.90722656],\n",
       "       [450.21972656, 450.09667969, 450.51855469, 450.67675781,\n",
       "        450.08496094, 450.90722656],\n",
       "       [450.21972656, 450.09667969, 450.51855469, 450.67675781,\n",
       "        450.28027344, 450.25488281],\n",
       "       [450.21972656, 450.89941406, 450.50097656, 450.06933594,\n",
       "        450.08496094, 450.25488281],\n",
       "       [450.04589844, 450.09667969, 450.50097656, 450.06933594,\n",
       "        450.08496094, 450.25488281],\n",
       "       [450.04589844, 450.89941406, 450.51855469, 450.06933594,\n",
       "        450.08496094, 450.25488281],\n",
       "       [450.04589844, 450.89941406, 450.50097656, 450.67675781,\n",
       "        450.08496094, 450.25488281],\n",
       "       [450.04589844, 450.89941406, 450.50097656, 450.06933594,\n",
       "        450.28027344, 450.25488281],\n",
       "       [450.04589844, 450.89941406, 450.50097656, 450.06933594,\n",
       "        450.08496094, 450.90722656],\n",
       "       [450.04589844, 450.89941406, 450.50097656, 450.06933594,\n",
       "        450.08496094, 450.25488281]])"
      ]
     },
     "execution_count": 31,
     "metadata": {},
     "output_type": "execute_result"
    }
   ],
   "source": [
    "param_values"
   ]
  },
  {
   "cell_type": "code",
   "execution_count": 32,
   "id": "suited-feature",
   "metadata": {},
   "outputs": [],
   "source": [
    "def simulation(experiment):\n",
    "\n",
    "    #Set the input parameters\n",
    "    netlogo.command('setup')\n",
    "    for i, name in enumerate(problem['names']):\n",
    "        if name == 'random-seed':\n",
    "            #The NetLogo random seed requires a different syntax\n",
    "            netlogo.command('random-seed {}'.format(experiment[i]))\n",
    "        else:\n",
    "            #Otherwise, assume the input parameters are global variables\n",
    "            print('set {0} {1}'.format(name, experiment[i]))\n",
    "            netlogo.command('set {0} {1}'.format(name, experiment[i]))\n",
    "\n",
    "    counts = netlogo.repeat_report(['count turtles','count visitors'], 100)\n",
    "    #Run for 100 ticks and return the number of sheep and wolf agents at each time step\n",
    "    \n",
    "\n",
    "    results = pd.Series([counts['count turtles'].values.mean(),\n",
    "                         counts['count visitors'].values.mean()],\n",
    "                         index=['Avg. turtles', 'Avg. visitors'])\n",
    "\n",
    "    return counts"
   ]
  },
  {
   "cell_type": "code",
   "execution_count": 33,
   "id": "double-england",
   "metadata": {},
   "outputs": [
    {
     "name": "stdout",
     "output_type": "stream",
     "text": [
      "0 agents-at-start\n",
      "set agents-at-start [450.21972656 450.09667969 450.51855469 450.67675781 450.28027344\n",
      " 450.90722656]\n"
     ]
    }
   ],
   "source": [
    "results1 = pd.DataFrame(simulation(param_values))"
   ]
  },
  {
   "cell_type": "code",
   "execution_count": 42,
   "id": "prepared-fishing",
   "metadata": {},
   "outputs": [],
   "source": [
    "netlogo.command('set agents-at-start 450')"
   ]
  },
  {
   "cell_type": "code",
   "execution_count": 35,
   "id": "impressive-crown",
   "metadata": {},
   "outputs": [
    {
     "data": {
      "text/html": [
       "<div>\n",
       "<style scoped>\n",
       "    .dataframe tbody tr th:only-of-type {\n",
       "        vertical-align: middle;\n",
       "    }\n",
       "\n",
       "    .dataframe tbody tr th {\n",
       "        vertical-align: top;\n",
       "    }\n",
       "\n",
       "    .dataframe thead th {\n",
       "        text-align: right;\n",
       "    }\n",
       "</style>\n",
       "<table border=\"1\" class=\"dataframe\">\n",
       "  <thead>\n",
       "    <tr style=\"text-align: right;\">\n",
       "      <th></th>\n",
       "      <th>count turtles</th>\n",
       "      <th>count visitors</th>\n",
       "    </tr>\n",
       "  </thead>\n",
       "  <tbody>\n",
       "    <tr>\n",
       "      <th>0.0</th>\n",
       "      <td>5000.0</td>\n",
       "      <td>4950.0</td>\n",
       "    </tr>\n",
       "    <tr>\n",
       "      <th>1.0</th>\n",
       "      <td>4999.0</td>\n",
       "      <td>4949.0</td>\n",
       "    </tr>\n",
       "    <tr>\n",
       "      <th>2.0</th>\n",
       "      <td>4999.0</td>\n",
       "      <td>4949.0</td>\n",
       "    </tr>\n",
       "    <tr>\n",
       "      <th>3.0</th>\n",
       "      <td>4997.0</td>\n",
       "      <td>4947.0</td>\n",
       "    </tr>\n",
       "    <tr>\n",
       "      <th>4.0</th>\n",
       "      <td>4997.0</td>\n",
       "      <td>4947.0</td>\n",
       "    </tr>\n",
       "    <tr>\n",
       "      <th>...</th>\n",
       "      <td>...</td>\n",
       "      <td>...</td>\n",
       "    </tr>\n",
       "    <tr>\n",
       "      <th>95.0</th>\n",
       "      <td>4760.0</td>\n",
       "      <td>4712.0</td>\n",
       "    </tr>\n",
       "    <tr>\n",
       "      <th>96.0</th>\n",
       "      <td>4752.0</td>\n",
       "      <td>4704.0</td>\n",
       "    </tr>\n",
       "    <tr>\n",
       "      <th>97.0</th>\n",
       "      <td>4747.0</td>\n",
       "      <td>4699.0</td>\n",
       "    </tr>\n",
       "    <tr>\n",
       "      <th>98.0</th>\n",
       "      <td>4734.0</td>\n",
       "      <td>4686.0</td>\n",
       "    </tr>\n",
       "    <tr>\n",
       "      <th>99.0</th>\n",
       "      <td>4723.0</td>\n",
       "      <td>4675.0</td>\n",
       "    </tr>\n",
       "  </tbody>\n",
       "</table>\n",
       "<p>100 rows × 2 columns</p>\n",
       "</div>"
      ],
      "text/plain": [
       "     count turtles count visitors\n",
       "0.0         5000.0         4950.0\n",
       "1.0         4999.0         4949.0\n",
       "2.0         4999.0         4949.0\n",
       "3.0         4997.0         4947.0\n",
       "4.0         4997.0         4947.0\n",
       "...            ...            ...\n",
       "95.0        4760.0         4712.0\n",
       "96.0        4752.0         4704.0\n",
       "97.0        4747.0         4699.0\n",
       "98.0        4734.0         4686.0\n",
       "99.0        4723.0         4675.0\n",
       "\n",
       "[100 rows x 2 columns]"
      ]
     },
     "execution_count": 35,
     "metadata": {},
     "output_type": "execute_result"
    }
   ],
   "source": [
    "results1"
   ]
  },
  {
   "cell_type": "code",
   "execution_count": 34,
   "id": "institutional-blogger",
   "metadata": {},
   "outputs": [
    {
     "data": {
      "text/plain": [
       "array([450.04589844, 450.09667969, 450.51855469, 450.67675781,\n",
       "       450.28027344, 450.90722656])"
      ]
     },
     "execution_count": 34,
     "metadata": {},
     "output_type": "execute_result"
    }
   ],
   "source": [
    "param_values[1]"
   ]
  },
  {
   "cell_type": "code",
   "execution_count": 11,
   "id": "executive-execution",
   "metadata": {},
   "outputs": [],
   "source": [
    "#Si = sobol.analyze(problem, results['count turtles'].values, calc_second_order=True, print_to_console=False)"
   ]
  }
 ],
 "metadata": {
  "kernelspec": {
   "display_name": "Python 3",
   "language": "python",
   "name": "python3"
  },
  "language_info": {
   "codemirror_mode": {
    "name": "ipython",
    "version": 3
   },
   "file_extension": ".py",
   "mimetype": "text/x-python",
   "name": "python",
   "nbconvert_exporter": "python",
   "pygments_lexer": "ipython3",
   "version": "3.8.5"
  }
 },
 "nbformat": 4,
 "nbformat_minor": 5
}
